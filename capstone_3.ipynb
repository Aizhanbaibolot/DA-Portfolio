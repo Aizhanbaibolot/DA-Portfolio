{
  "nbformat": 4,
  "nbformat_minor": 0,
  "metadata": {
    "colab": {
      "name": "capstone 3",
      "provenance": [],
      "include_colab_link": true
    },
    "kernelspec": {
      "name": "python3",
      "display_name": "Python 3"
    },
    "language_info": {
      "name": "python"
    }
  },
  "cells": [
    {
      "cell_type": "markdown",
      "metadata": {
        "id": "view-in-github",
        "colab_type": "text"
      },
      "source": [
        "<a href=\"https://colab.research.google.com/github/Aizhanbaibolot/DA-Portfolio/blob/Aizhanbaibolot-capstone-3/capstone_3.ipynb\" target=\"_parent\"><img src=\"https://colab.research.google.com/assets/colab-badge.svg\" alt=\"Open In Colab\"/></a>"
      ]
    },
    {
      "cell_type": "markdown",
      "source": [
        "# Introduction"
      ],
      "metadata": {
        "id": "r7v53so2BbOD"
      }
    },
    {
      "cell_type": "markdown",
      "source": [
        "The data is called The Best Cities and Countries for Startups.\n",
        "The dataset consists of 1000 records across 9 fields.\n",
        "I would like to answer two questions using the data. The first is to see if there is any correlation between quantity score and quality score of the countries. The second is to see if there is a significant difference between total scores for cities with sign of change in position and without.\n",
        "I will use visualizations to show correlation, and I will use t-test to test the significance of score differences for different cities with or without sign of change in position.\n",
        "Findings can be interesting for startupers as well as investors.\n",
        "The startupers will be interested in knowing which country or city to choose to realize their ideas. Also investors can use the findings to choose the correct location to invest their money and predict approximate scores. "
      ],
      "metadata": {
        "id": "UT0VXrFcBfYy"
      }
    },
    {
      "cell_type": "code",
      "execution_count": null,
      "metadata": {
        "colab": {
          "base_uri": "https://localhost:8080/"
        },
        "id": "k3xcox_rY0Fq",
        "outputId": "3de1ded4-2328-44fb-a238-bcc935b5b878"
      },
      "outputs": [
        {
          "output_type": "stream",
          "name": "stdout",
          "text": [
            "Mounted at /content/gdrive\n"
          ]
        }
      ],
      "source": [
        "# Connecting to Google Drive\n",
        "from google.colab import drive\n",
        "drive.mount('/content/gdrive')"
      ]
    },
    {
      "cell_type": "code",
      "source": [
        "# import and alias modules \n",
        "import pandas as pd\n",
        "import math\n",
        "from scipy import stats\n",
        "import seaborn as sns\n",
        "import matplotlib.pyplot as plt\n",
        "sns.set()\n"
      ],
      "metadata": {
        "id": "kQSg_RVpgWJb"
      },
      "execution_count": null,
      "outputs": []
    },
    {
      "cell_type": "code",
      "source": [
        "#read in data\n",
        "df = pd.read_csv('/content/gdrive/My Drive/Thinkful/Interview/Capstone 3/Best Cities for Startups.csv')\n",
        "# see the first five rows\n",
        "df.head(15)"
      ],
      "metadata": {
        "colab": {
          "base_uri": "https://localhost:8080/",
          "height": 737
        },
        "id": "GAO8OOCUguhF",
        "outputId": "773d0154-9250-49cd-9a88-1cc636d3e3dc"
      },
      "execution_count": null,
      "outputs": [
        {
          "output_type": "execute_result",
          "data": {
            "text/plain": [
              "    position change in position from 2020               city          country  \\\n",
              "0          1                            0  San Francisco Bay    United States   \n",
              "1          2                            0           New York    United States   \n",
              "2          3                            3            Beijing            China   \n",
              "3          4                            1   Los Angeles Area    United States   \n",
              "4          5                            2             London   United Kingdom   \n",
              "5          6                            2        Boston Area    United States   \n",
              "6          7                            3           Shanghai            China   \n",
              "7          8                            1      Tel Aviv Area           Israel   \n",
              "8          9                            0             Moscow           Russia   \n",
              "9         10                            4          Bangalore            India   \n",
              "10        11                            1              Paris           France   \n",
              "11        12                            1            Seattle    United States   \n",
              "12        13                            5             Berlin          Germany   \n",
              "13        14                            1          New Delhi            India   \n",
              "14        15                            1              Tokyo            Japan   \n",
              "\n",
              "    total score  quatity score  quality score  business score  \\\n",
              "0       328.966          29.14         296.02            3.80   \n",
              "1       110.777          11.43          95.55            3.80   \n",
              "2        66.049           5.01          58.61            2.43   \n",
              "3        58.441          11.23          43.41            3.80   \n",
              "4        56.913          15.77          37.44            3.70   \n",
              "5        49.835           5.50          40.53            3.80   \n",
              "6        42.162           3.57          36.17            2.43   \n",
              "7        27.084           4.04          19.92            3.13   \n",
              "8        25.401           7.37          15.64            2.39   \n",
              "9        25.367           5.04          17.95            2.38   \n",
              "10       25.297           5.27          16.62            3.41   \n",
              "11       24.329           3.49          17.04            3.80   \n",
              "12       23.872           4.03          16.35            3.49   \n",
              "13       22.379           5.88          13.90            2.61   \n",
              "14       21.792           2.50          16.00            3.30   \n",
              "\n",
              "   sign of change in position  \n",
              "0                         NaN  \n",
              "1                         NaN  \n",
              "2                           +  \n",
              "3                           +  \n",
              "4                           -  \n",
              "5                           -  \n",
              "6                           +  \n",
              "7                           -  \n",
              "8                         NaN  \n",
              "9                           +  \n",
              "10                          +  \n",
              "11                          -  \n",
              "12                          -  \n",
              "13                          +  \n",
              "14                          +  "
            ],
            "text/html": [
              "\n",
              "  <div id=\"df-bbee119d-20d8-4d86-9770-7bcf5c674237\">\n",
              "    <div class=\"colab-df-container\">\n",
              "      <div>\n",
              "<style scoped>\n",
              "    .dataframe tbody tr th:only-of-type {\n",
              "        vertical-align: middle;\n",
              "    }\n",
              "\n",
              "    .dataframe tbody tr th {\n",
              "        vertical-align: top;\n",
              "    }\n",
              "\n",
              "    .dataframe thead th {\n",
              "        text-align: right;\n",
              "    }\n",
              "</style>\n",
              "<table border=\"1\" class=\"dataframe\">\n",
              "  <thead>\n",
              "    <tr style=\"text-align: right;\">\n",
              "      <th></th>\n",
              "      <th>position</th>\n",
              "      <th>change in position from 2020</th>\n",
              "      <th>city</th>\n",
              "      <th>country</th>\n",
              "      <th>total score</th>\n",
              "      <th>quatity score</th>\n",
              "      <th>quality score</th>\n",
              "      <th>business score</th>\n",
              "      <th>sign of change in position</th>\n",
              "    </tr>\n",
              "  </thead>\n",
              "  <tbody>\n",
              "    <tr>\n",
              "      <th>0</th>\n",
              "      <td>1</td>\n",
              "      <td>0</td>\n",
              "      <td>San Francisco Bay</td>\n",
              "      <td>United States</td>\n",
              "      <td>328.966</td>\n",
              "      <td>29.14</td>\n",
              "      <td>296.02</td>\n",
              "      <td>3.80</td>\n",
              "      <td>NaN</td>\n",
              "    </tr>\n",
              "    <tr>\n",
              "      <th>1</th>\n",
              "      <td>2</td>\n",
              "      <td>0</td>\n",
              "      <td>New York</td>\n",
              "      <td>United States</td>\n",
              "      <td>110.777</td>\n",
              "      <td>11.43</td>\n",
              "      <td>95.55</td>\n",
              "      <td>3.80</td>\n",
              "      <td>NaN</td>\n",
              "    </tr>\n",
              "    <tr>\n",
              "      <th>2</th>\n",
              "      <td>3</td>\n",
              "      <td>3</td>\n",
              "      <td>Beijing</td>\n",
              "      <td>China</td>\n",
              "      <td>66.049</td>\n",
              "      <td>5.01</td>\n",
              "      <td>58.61</td>\n",
              "      <td>2.43</td>\n",
              "      <td>+</td>\n",
              "    </tr>\n",
              "    <tr>\n",
              "      <th>3</th>\n",
              "      <td>4</td>\n",
              "      <td>1</td>\n",
              "      <td>Los Angeles Area</td>\n",
              "      <td>United States</td>\n",
              "      <td>58.441</td>\n",
              "      <td>11.23</td>\n",
              "      <td>43.41</td>\n",
              "      <td>3.80</td>\n",
              "      <td>+</td>\n",
              "    </tr>\n",
              "    <tr>\n",
              "      <th>4</th>\n",
              "      <td>5</td>\n",
              "      <td>2</td>\n",
              "      <td>London</td>\n",
              "      <td>United Kingdom</td>\n",
              "      <td>56.913</td>\n",
              "      <td>15.77</td>\n",
              "      <td>37.44</td>\n",
              "      <td>3.70</td>\n",
              "      <td>-</td>\n",
              "    </tr>\n",
              "    <tr>\n",
              "      <th>5</th>\n",
              "      <td>6</td>\n",
              "      <td>2</td>\n",
              "      <td>Boston Area</td>\n",
              "      <td>United States</td>\n",
              "      <td>49.835</td>\n",
              "      <td>5.50</td>\n",
              "      <td>40.53</td>\n",
              "      <td>3.80</td>\n",
              "      <td>-</td>\n",
              "    </tr>\n",
              "    <tr>\n",
              "      <th>6</th>\n",
              "      <td>7</td>\n",
              "      <td>3</td>\n",
              "      <td>Shanghai</td>\n",
              "      <td>China</td>\n",
              "      <td>42.162</td>\n",
              "      <td>3.57</td>\n",
              "      <td>36.17</td>\n",
              "      <td>2.43</td>\n",
              "      <td>+</td>\n",
              "    </tr>\n",
              "    <tr>\n",
              "      <th>7</th>\n",
              "      <td>8</td>\n",
              "      <td>1</td>\n",
              "      <td>Tel Aviv Area</td>\n",
              "      <td>Israel</td>\n",
              "      <td>27.084</td>\n",
              "      <td>4.04</td>\n",
              "      <td>19.92</td>\n",
              "      <td>3.13</td>\n",
              "      <td>-</td>\n",
              "    </tr>\n",
              "    <tr>\n",
              "      <th>8</th>\n",
              "      <td>9</td>\n",
              "      <td>0</td>\n",
              "      <td>Moscow</td>\n",
              "      <td>Russia</td>\n",
              "      <td>25.401</td>\n",
              "      <td>7.37</td>\n",
              "      <td>15.64</td>\n",
              "      <td>2.39</td>\n",
              "      <td>NaN</td>\n",
              "    </tr>\n",
              "    <tr>\n",
              "      <th>9</th>\n",
              "      <td>10</td>\n",
              "      <td>4</td>\n",
              "      <td>Bangalore</td>\n",
              "      <td>India</td>\n",
              "      <td>25.367</td>\n",
              "      <td>5.04</td>\n",
              "      <td>17.95</td>\n",
              "      <td>2.38</td>\n",
              "      <td>+</td>\n",
              "    </tr>\n",
              "    <tr>\n",
              "      <th>10</th>\n",
              "      <td>11</td>\n",
              "      <td>1</td>\n",
              "      <td>Paris</td>\n",
              "      <td>France</td>\n",
              "      <td>25.297</td>\n",
              "      <td>5.27</td>\n",
              "      <td>16.62</td>\n",
              "      <td>3.41</td>\n",
              "      <td>+</td>\n",
              "    </tr>\n",
              "    <tr>\n",
              "      <th>11</th>\n",
              "      <td>12</td>\n",
              "      <td>1</td>\n",
              "      <td>Seattle</td>\n",
              "      <td>United States</td>\n",
              "      <td>24.329</td>\n",
              "      <td>3.49</td>\n",
              "      <td>17.04</td>\n",
              "      <td>3.80</td>\n",
              "      <td>-</td>\n",
              "    </tr>\n",
              "    <tr>\n",
              "      <th>12</th>\n",
              "      <td>13</td>\n",
              "      <td>5</td>\n",
              "      <td>Berlin</td>\n",
              "      <td>Germany</td>\n",
              "      <td>23.872</td>\n",
              "      <td>4.03</td>\n",
              "      <td>16.35</td>\n",
              "      <td>3.49</td>\n",
              "      <td>-</td>\n",
              "    </tr>\n",
              "    <tr>\n",
              "      <th>13</th>\n",
              "      <td>14</td>\n",
              "      <td>1</td>\n",
              "      <td>New Delhi</td>\n",
              "      <td>India</td>\n",
              "      <td>22.379</td>\n",
              "      <td>5.88</td>\n",
              "      <td>13.90</td>\n",
              "      <td>2.61</td>\n",
              "      <td>+</td>\n",
              "    </tr>\n",
              "    <tr>\n",
              "      <th>14</th>\n",
              "      <td>15</td>\n",
              "      <td>1</td>\n",
              "      <td>Tokyo</td>\n",
              "      <td>Japan</td>\n",
              "      <td>21.792</td>\n",
              "      <td>2.50</td>\n",
              "      <td>16.00</td>\n",
              "      <td>3.30</td>\n",
              "      <td>+</td>\n",
              "    </tr>\n",
              "  </tbody>\n",
              "</table>\n",
              "</div>\n",
              "      <button class=\"colab-df-convert\" onclick=\"convertToInteractive('df-bbee119d-20d8-4d86-9770-7bcf5c674237')\"\n",
              "              title=\"Convert this dataframe to an interactive table.\"\n",
              "              style=\"display:none;\">\n",
              "        \n",
              "  <svg xmlns=\"http://www.w3.org/2000/svg\" height=\"24px\"viewBox=\"0 0 24 24\"\n",
              "       width=\"24px\">\n",
              "    <path d=\"M0 0h24v24H0V0z\" fill=\"none\"/>\n",
              "    <path d=\"M18.56 5.44l.94 2.06.94-2.06 2.06-.94-2.06-.94-.94-2.06-.94 2.06-2.06.94zm-11 1L8.5 8.5l.94-2.06 2.06-.94-2.06-.94L8.5 2.5l-.94 2.06-2.06.94zm10 10l.94 2.06.94-2.06 2.06-.94-2.06-.94-.94-2.06-.94 2.06-2.06.94z\"/><path d=\"M17.41 7.96l-1.37-1.37c-.4-.4-.92-.59-1.43-.59-.52 0-1.04.2-1.43.59L10.3 9.45l-7.72 7.72c-.78.78-.78 2.05 0 2.83L4 21.41c.39.39.9.59 1.41.59.51 0 1.02-.2 1.41-.59l7.78-7.78 2.81-2.81c.8-.78.8-2.07 0-2.86zM5.41 20L4 18.59l7.72-7.72 1.47 1.35L5.41 20z\"/>\n",
              "  </svg>\n",
              "      </button>\n",
              "      \n",
              "  <style>\n",
              "    .colab-df-container {\n",
              "      display:flex;\n",
              "      flex-wrap:wrap;\n",
              "      gap: 12px;\n",
              "    }\n",
              "\n",
              "    .colab-df-convert {\n",
              "      background-color: #E8F0FE;\n",
              "      border: none;\n",
              "      border-radius: 50%;\n",
              "      cursor: pointer;\n",
              "      display: none;\n",
              "      fill: #1967D2;\n",
              "      height: 32px;\n",
              "      padding: 0 0 0 0;\n",
              "      width: 32px;\n",
              "    }\n",
              "\n",
              "    .colab-df-convert:hover {\n",
              "      background-color: #E2EBFA;\n",
              "      box-shadow: 0px 1px 2px rgba(60, 64, 67, 0.3), 0px 1px 3px 1px rgba(60, 64, 67, 0.15);\n",
              "      fill: #174EA6;\n",
              "    }\n",
              "\n",
              "    [theme=dark] .colab-df-convert {\n",
              "      background-color: #3B4455;\n",
              "      fill: #D2E3FC;\n",
              "    }\n",
              "\n",
              "    [theme=dark] .colab-df-convert:hover {\n",
              "      background-color: #434B5C;\n",
              "      box-shadow: 0px 1px 3px 1px rgba(0, 0, 0, 0.15);\n",
              "      filter: drop-shadow(0px 1px 2px rgba(0, 0, 0, 0.3));\n",
              "      fill: #FFFFFF;\n",
              "    }\n",
              "  </style>\n",
              "\n",
              "      <script>\n",
              "        const buttonEl =\n",
              "          document.querySelector('#df-bbee119d-20d8-4d86-9770-7bcf5c674237 button.colab-df-convert');\n",
              "        buttonEl.style.display =\n",
              "          google.colab.kernel.accessAllowed ? 'block' : 'none';\n",
              "\n",
              "        async function convertToInteractive(key) {\n",
              "          const element = document.querySelector('#df-bbee119d-20d8-4d86-9770-7bcf5c674237');\n",
              "          const dataTable =\n",
              "            await google.colab.kernel.invokeFunction('convertToInteractive',\n",
              "                                                     [key], {});\n",
              "          if (!dataTable) return;\n",
              "\n",
              "          const docLinkHtml = 'Like what you see? Visit the ' +\n",
              "            '<a target=\"_blank\" href=https://colab.research.google.com/notebooks/data_table.ipynb>data table notebook</a>'\n",
              "            + ' to learn more about interactive tables.';\n",
              "          element.innerHTML = '';\n",
              "          dataTable['output_type'] = 'display_data';\n",
              "          await google.colab.output.renderOutput(dataTable, element);\n",
              "          const docLink = document.createElement('div');\n",
              "          docLink.innerHTML = docLinkHtml;\n",
              "          element.appendChild(docLink);\n",
              "        }\n",
              "      </script>\n",
              "    </div>\n",
              "  </div>\n",
              "  "
            ]
          },
          "metadata": {},
          "execution_count": 20
        }
      ]
    },
    {
      "cell_type": "code",
      "source": [
        "# see the information for the dataframe\n",
        "df.info()"
      ],
      "metadata": {
        "colab": {
          "base_uri": "https://localhost:8080/"
        },
        "id": "tNA1_pXfjNTe",
        "outputId": "7d8d14d7-aaf4-41b9-acf0-5d41f97a0aca"
      },
      "execution_count": null,
      "outputs": [
        {
          "output_type": "stream",
          "name": "stdout",
          "text": [
            "<class 'pandas.core.frame.DataFrame'>\n",
            "RangeIndex: 1000 entries, 0 to 999\n",
            "Data columns (total 9 columns):\n",
            " #   Column                        Non-Null Count  Dtype  \n",
            "---  ------                        --------------  -----  \n",
            " 0   position                      1000 non-null   int64  \n",
            " 1   change in position from 2020  1000 non-null   object \n",
            " 2   city                          1000 non-null   object \n",
            " 3   country                       1000 non-null   object \n",
            " 4   total score                   1000 non-null   float64\n",
            " 5   quatity score                 1000 non-null   float64\n",
            " 6   quality score                 1000 non-null   float64\n",
            " 7   business score                1000 non-null   float64\n",
            " 8   sign of change in position    798 non-null    object \n",
            "dtypes: float64(4), int64(1), object(4)\n",
            "memory usage: 70.4+ KB\n"
          ]
        }
      ]
    },
    {
      "cell_type": "code",
      "source": [
        "# see the descriptive statistics\n",
        "df.describe()"
      ],
      "metadata": {
        "colab": {
          "base_uri": "https://localhost:8080/",
          "height": 300
        },
        "id": "QBmGayPfk01w",
        "outputId": "8b81bf17-d689-4700-a66d-8aa66bd9f682"
      },
      "execution_count": null,
      "outputs": [
        {
          "output_type": "execute_result",
          "data": {
            "text/plain": [
              "          position  total score  quatity score  quality score  business score\n",
              "count  1000.000000  1000.000000    1000.000000    1000.000000     1000.000000\n",
              "mean    500.500000     2.433854       0.343920       1.223350        0.867160\n",
              "std     288.819436    12.055121       1.347019      10.487355        1.148477\n",
              "min       1.000000     0.037000       0.010000       0.010000        0.000000\n",
              "25%     250.750000     0.190750       0.020000       0.030000        0.140000\n",
              "50%     500.500000     0.367000       0.040000       0.040000        0.270000\n",
              "75%     750.250000     1.362500       0.180000       0.140000        1.030000\n",
              "max    1000.000000   328.966000      29.140000     296.020000        3.800000"
            ],
            "text/html": [
              "\n",
              "  <div id=\"df-375308bb-81cd-4c80-8991-592ea73623b5\">\n",
              "    <div class=\"colab-df-container\">\n",
              "      <div>\n",
              "<style scoped>\n",
              "    .dataframe tbody tr th:only-of-type {\n",
              "        vertical-align: middle;\n",
              "    }\n",
              "\n",
              "    .dataframe tbody tr th {\n",
              "        vertical-align: top;\n",
              "    }\n",
              "\n",
              "    .dataframe thead th {\n",
              "        text-align: right;\n",
              "    }\n",
              "</style>\n",
              "<table border=\"1\" class=\"dataframe\">\n",
              "  <thead>\n",
              "    <tr style=\"text-align: right;\">\n",
              "      <th></th>\n",
              "      <th>position</th>\n",
              "      <th>total score</th>\n",
              "      <th>quatity score</th>\n",
              "      <th>quality score</th>\n",
              "      <th>business score</th>\n",
              "    </tr>\n",
              "  </thead>\n",
              "  <tbody>\n",
              "    <tr>\n",
              "      <th>count</th>\n",
              "      <td>1000.000000</td>\n",
              "      <td>1000.000000</td>\n",
              "      <td>1000.000000</td>\n",
              "      <td>1000.000000</td>\n",
              "      <td>1000.000000</td>\n",
              "    </tr>\n",
              "    <tr>\n",
              "      <th>mean</th>\n",
              "      <td>500.500000</td>\n",
              "      <td>2.433854</td>\n",
              "      <td>0.343920</td>\n",
              "      <td>1.223350</td>\n",
              "      <td>0.867160</td>\n",
              "    </tr>\n",
              "    <tr>\n",
              "      <th>std</th>\n",
              "      <td>288.819436</td>\n",
              "      <td>12.055121</td>\n",
              "      <td>1.347019</td>\n",
              "      <td>10.487355</td>\n",
              "      <td>1.148477</td>\n",
              "    </tr>\n",
              "    <tr>\n",
              "      <th>min</th>\n",
              "      <td>1.000000</td>\n",
              "      <td>0.037000</td>\n",
              "      <td>0.010000</td>\n",
              "      <td>0.010000</td>\n",
              "      <td>0.000000</td>\n",
              "    </tr>\n",
              "    <tr>\n",
              "      <th>25%</th>\n",
              "      <td>250.750000</td>\n",
              "      <td>0.190750</td>\n",
              "      <td>0.020000</td>\n",
              "      <td>0.030000</td>\n",
              "      <td>0.140000</td>\n",
              "    </tr>\n",
              "    <tr>\n",
              "      <th>50%</th>\n",
              "      <td>500.500000</td>\n",
              "      <td>0.367000</td>\n",
              "      <td>0.040000</td>\n",
              "      <td>0.040000</td>\n",
              "      <td>0.270000</td>\n",
              "    </tr>\n",
              "    <tr>\n",
              "      <th>75%</th>\n",
              "      <td>750.250000</td>\n",
              "      <td>1.362500</td>\n",
              "      <td>0.180000</td>\n",
              "      <td>0.140000</td>\n",
              "      <td>1.030000</td>\n",
              "    </tr>\n",
              "    <tr>\n",
              "      <th>max</th>\n",
              "      <td>1000.000000</td>\n",
              "      <td>328.966000</td>\n",
              "      <td>29.140000</td>\n",
              "      <td>296.020000</td>\n",
              "      <td>3.800000</td>\n",
              "    </tr>\n",
              "  </tbody>\n",
              "</table>\n",
              "</div>\n",
              "      <button class=\"colab-df-convert\" onclick=\"convertToInteractive('df-375308bb-81cd-4c80-8991-592ea73623b5')\"\n",
              "              title=\"Convert this dataframe to an interactive table.\"\n",
              "              style=\"display:none;\">\n",
              "        \n",
              "  <svg xmlns=\"http://www.w3.org/2000/svg\" height=\"24px\"viewBox=\"0 0 24 24\"\n",
              "       width=\"24px\">\n",
              "    <path d=\"M0 0h24v24H0V0z\" fill=\"none\"/>\n",
              "    <path d=\"M18.56 5.44l.94 2.06.94-2.06 2.06-.94-2.06-.94-.94-2.06-.94 2.06-2.06.94zm-11 1L8.5 8.5l.94-2.06 2.06-.94-2.06-.94L8.5 2.5l-.94 2.06-2.06.94zm10 10l.94 2.06.94-2.06 2.06-.94-2.06-.94-.94-2.06-.94 2.06-2.06.94z\"/><path d=\"M17.41 7.96l-1.37-1.37c-.4-.4-.92-.59-1.43-.59-.52 0-1.04.2-1.43.59L10.3 9.45l-7.72 7.72c-.78.78-.78 2.05 0 2.83L4 21.41c.39.39.9.59 1.41.59.51 0 1.02-.2 1.41-.59l7.78-7.78 2.81-2.81c.8-.78.8-2.07 0-2.86zM5.41 20L4 18.59l7.72-7.72 1.47 1.35L5.41 20z\"/>\n",
              "  </svg>\n",
              "      </button>\n",
              "      \n",
              "  <style>\n",
              "    .colab-df-container {\n",
              "      display:flex;\n",
              "      flex-wrap:wrap;\n",
              "      gap: 12px;\n",
              "    }\n",
              "\n",
              "    .colab-df-convert {\n",
              "      background-color: #E8F0FE;\n",
              "      border: none;\n",
              "      border-radius: 50%;\n",
              "      cursor: pointer;\n",
              "      display: none;\n",
              "      fill: #1967D2;\n",
              "      height: 32px;\n",
              "      padding: 0 0 0 0;\n",
              "      width: 32px;\n",
              "    }\n",
              "\n",
              "    .colab-df-convert:hover {\n",
              "      background-color: #E2EBFA;\n",
              "      box-shadow: 0px 1px 2px rgba(60, 64, 67, 0.3), 0px 1px 3px 1px rgba(60, 64, 67, 0.15);\n",
              "      fill: #174EA6;\n",
              "    }\n",
              "\n",
              "    [theme=dark] .colab-df-convert {\n",
              "      background-color: #3B4455;\n",
              "      fill: #D2E3FC;\n",
              "    }\n",
              "\n",
              "    [theme=dark] .colab-df-convert:hover {\n",
              "      background-color: #434B5C;\n",
              "      box-shadow: 0px 1px 3px 1px rgba(0, 0, 0, 0.15);\n",
              "      filter: drop-shadow(0px 1px 2px rgba(0, 0, 0, 0.3));\n",
              "      fill: #FFFFFF;\n",
              "    }\n",
              "  </style>\n",
              "\n",
              "      <script>\n",
              "        const buttonEl =\n",
              "          document.querySelector('#df-375308bb-81cd-4c80-8991-592ea73623b5 button.colab-df-convert');\n",
              "        buttonEl.style.display =\n",
              "          google.colab.kernel.accessAllowed ? 'block' : 'none';\n",
              "\n",
              "        async function convertToInteractive(key) {\n",
              "          const element = document.querySelector('#df-375308bb-81cd-4c80-8991-592ea73623b5');\n",
              "          const dataTable =\n",
              "            await google.colab.kernel.invokeFunction('convertToInteractive',\n",
              "                                                     [key], {});\n",
              "          if (!dataTable) return;\n",
              "\n",
              "          const docLinkHtml = 'Like what you see? Visit the ' +\n",
              "            '<a target=\"_blank\" href=https://colab.research.google.com/notebooks/data_table.ipynb>data table notebook</a>'\n",
              "            + ' to learn more about interactive tables.';\n",
              "          element.innerHTML = '';\n",
              "          dataTable['output_type'] = 'display_data';\n",
              "          await google.colab.output.renderOutput(dataTable, element);\n",
              "          const docLink = document.createElement('div');\n",
              "          docLink.innerHTML = docLinkHtml;\n",
              "          element.appendChild(docLink);\n",
              "        }\n",
              "      </script>\n",
              "    </div>\n",
              "  </div>\n",
              "  "
            ]
          },
          "metadata": {},
          "execution_count": 17
        }
      ]
    },
    {
      "cell_type": "code",
      "source": [
        "# find number of records for each country\n",
        "df['country'].value_counts()"
      ],
      "metadata": {
        "colab": {
          "base_uri": "https://localhost:8080/"
        },
        "id": "-TFR5kG0lXKn",
        "outputId": "900e5e07-4175-478f-cb06-16882d3b470c"
      },
      "execution_count": null,
      "outputs": [
        {
          "output_type": "execute_result",
          "data": {
            "text/plain": [
              " United States     267\n",
              " United Kingdom     58\n",
              " India              43\n",
              " Germany            42\n",
              " China              40\n",
              "                  ... \n",
              " Qatar               1\n",
              " Liechtenstein       1\n",
              " Nepal               1\n",
              " Azerbaijan          1\n",
              " Yemen               1\n",
              "Name: country, Length: 140, dtype: int64"
            ]
          },
          "metadata": {},
          "execution_count": 7
        }
      ]
    },
    {
      "cell_type": "code",
      "source": [
        "# find number of records for each city\n",
        "df['city'].value_counts()"
      ],
      "metadata": {
        "colab": {
          "base_uri": "https://localhost:8080/"
        },
        "id": "Q5jvxAHel_sx",
        "outputId": "867a5b6b-a4ff-47bd-9a3a-a3d8cc2a2839"
      },
      "execution_count": null,
      "outputs": [
        {
          "output_type": "execute_result",
          "data": {
            "text/plain": [
              "Victoria     2\n",
              "Worcester    2\n",
              "Athens       2\n",
              "Windsor      2\n",
              "Vitoria      2\n",
              "            ..\n",
              "Essen        1\n",
              "Brasilia     1\n",
              "Aachen       1\n",
              "Tunis        1\n",
              "Sanaa        1\n",
              "Name: city, Length: 983, dtype: int64"
            ]
          },
          "metadata": {},
          "execution_count": 8
        }
      ]
    },
    {
      "cell_type": "markdown",
      "source": [
        "# Hypothesis 1"
      ],
      "metadata": {
        "id": "xGUiFSyhIcxV"
      }
    },
    {
      "cell_type": "markdown",
      "source": [
        "Ho: There is no statistically significant relationship between quantity score and quality score of the countries.\n",
        "\n",
        "Ha: There is a statistically significant relationship between quantity score and quality score of the countries.\n"
      ],
      "metadata": {
        "id": "t_vrYO3VNWS4"
      }
    },
    {
      "cell_type": "code",
      "source": [
        "# pairplot of the dataframe's business, quality and quantity scores\n",
        "plt.figure(figsize=(25,25))\n",
        "sns.pairplot(df, vars = ['business score', 'quatity score', 'quality score'])"
      ],
      "metadata": {
        "colab": {
          "base_uri": "https://localhost:8080/",
          "height": 584
        },
        "id": "KUqJnY1fq1QU",
        "outputId": "2dacf737-b4a3-4426-a624-75b540835b64"
      },
      "execution_count": null,
      "outputs": [
        {
          "output_type": "execute_result",
          "data": {
            "text/plain": [
              "<seaborn.axisgrid.PairGrid at 0x7ff87a340bd0>"
            ]
          },
          "metadata": {},
          "execution_count": 9
        },
        {
          "output_type": "display_data",
          "data": {
            "text/plain": [
              "<Figure size 1800x1800 with 0 Axes>"
            ]
          },
          "metadata": {}
        },
        {
          "output_type": "display_data",
          "data": {
            "text/plain": [
              "<Figure size 540x540 with 12 Axes>"
            ],
            "image/png": "[encoded data removed]"
          },
          "metadata": {}
        }
      ]
    },
    {
      "cell_type": "markdown",
      "source": [
        "This visualization is made to see correlation between business, quality, and quantity scores at once, to save time and room. From here we can choose variables to work with in the Hypothesis part."
      ],
      "metadata": {
        "id": "3sYdToOPCTiW"
      }
    },
    {
      "cell_type": "code",
      "source": [
        "#change the dimensions (inches)\n",
        "plt.figure(figsize=(10,8))\n",
        "# scatter plot of quantity score and quality score with the sign of change in position represented by color\n",
        "sns.scatterplot(x='quatity score', y='quality score',hue='sign of change in position', data=df)\n",
        "#add custom label and title\n",
        "plt.xlabel('Quantity scores')\n",
        "plt.ylabel('Quality scores')\n",
        "plt.title(\"Quantity vs Quality Scores with Sign of Change in Position and without\")\n",
        "plt.show()"
      ],
      "metadata": {
        "colab": {
          "base_uri": "https://localhost:8080/",
          "height": 518
        },
        "id": "JtkrOGY1rQYy",
        "outputId": "8e62c2e5-7e6e-4200-9e9f-8d72b11fa87a"
      },
      "execution_count": null,
      "outputs": [
        {
          "output_type": "display_data",
          "data": {
            "text/plain": [
              "<Figure size 720x576 with 1 Axes>"
            ],
            "image/png": "[encoded data removed]"
          },
          "metadata": {}
        }
      ]
    },
    {
      "cell_type": "markdown",
      "source": [
        "This scatterplot shows correlation between quantity and quality scores of the cities. Colors indicates if there is a sign of change in position or not. As we can see the data is correlated and it is positive correlation."
      ],
      "metadata": {
        "id": "PCp_mAeqJPmE"
      }
    },
    {
      "cell_type": "code",
      "source": [
        "# test for correlation\n",
        "stats.pearsonr(df['quatity score'], df['quality score'])"
      ],
      "metadata": {
        "colab": {
          "base_uri": "https://localhost:8080/"
        },
        "id": "0F8pGVhOEO2E",
        "outputId": "77f16669-beed-4daa-b84b-6b97d08cef20"
      },
      "execution_count": null,
      "outputs": [
        {
          "output_type": "execute_result",
          "data": {
            "text/plain": [
              "(0.881723794732008, 0.0)"
            ]
          },
          "metadata": {},
          "execution_count": 11
        }
      ]
    },
    {
      "cell_type": "markdown",
      "source": [
        "There is a statistically significant linear relationship between quantity score and quality score of the countries. The relationship is positive."
      ],
      "metadata": {
        "id": "BRV4o-XLEK6e"
      }
    },
    {
      "cell_type": "markdown",
      "source": [
        "# Hypothesis 2 "
      ],
      "metadata": {
        "id": "8GV2TZoOEiAD"
      }
    },
    {
      "cell_type": "markdown",
      "source": [
        "Ho: There is no statistically significant difference in the average total score of the cities with the sign of change in position and without the sign of change in position.\n",
        "\n",
        "Ha: There is a statistically significant difference in the average total score of the cities with the sign of change in position and without the sign of change in position.\n"
      ],
      "metadata": {
        "id": "CfenRJp1Nbbo"
      }
    },
    {
      "cell_type": "code",
      "source": [
        "# split the data for a t-test\n",
        "cities_with=df.loc[df['sign of change in position'] == '+']\n",
        "cities_without=df.loc[df['sign of change in position'] == '-']"
      ],
      "metadata": {
        "id": "zilUwXtL8h7h"
      },
      "execution_count": null,
      "outputs": []
    },
    {
      "cell_type": "code",
      "source": [
        "#sanity check\n",
        "cities_without.info()"
      ],
      "metadata": {
        "colab": {
          "base_uri": "https://localhost:8080/"
        },
        "id": "zSqFvsUUE7dq",
        "outputId": "7a6b8dc0-ed42-4f38-9a46-513c349a4f4d"
      },
      "execution_count": null,
      "outputs": [
        {
          "output_type": "stream",
          "name": "stdout",
          "text": [
            "<class 'pandas.core.frame.DataFrame'>\n",
            "Int64Index: 414 entries, 4 to 997\n",
            "Data columns (total 9 columns):\n",
            " #   Column                        Non-Null Count  Dtype  \n",
            "---  ------                        --------------  -----  \n",
            " 0   position                      414 non-null    int64  \n",
            " 1   change in position from 2020  414 non-null    object \n",
            " 2   city                          414 non-null    object \n",
            " 3   country                       414 non-null    object \n",
            " 4   total score                   414 non-null    float64\n",
            " 5   quatity score                 414 non-null    float64\n",
            " 6   quality score                 414 non-null    float64\n",
            " 7   business score                414 non-null    float64\n",
            " 8   sign of change in position    414 non-null    object \n",
            "dtypes: float64(4), int64(1), object(4)\n",
            "memory usage: 32.3+ KB\n"
          ]
        }
      ]
    },
    {
      "cell_type": "code",
      "source": [
        "# plot the distribution of total scores of cities with and without sign of change\n",
        "plt.figure(figsize=(15,12))\n",
        "sns.histplot(cities_with['total score'], bins= 40, kde= True)\n",
        "plt.xlabel('Total Scores')\n",
        "plt.ylabel('Count')\n",
        "plt.title(\"Total Scores for Cities with the Sign of Change in Position\")\n",
        "plt.show()"
      ],
      "metadata": {
        "colab": {
          "base_uri": "https://localhost:8080/",
          "height": 734
        },
        "id": "WtzEOJ4JFDLW",
        "outputId": "c9691ff7-4f94-4c40-d278-03cffa147c34"
      },
      "execution_count": null,
      "outputs": [
        {
          "output_type": "display_data",
          "data": {
            "text/plain": [
              "<Figure size 1080x864 with 1 Axes>"
            ],
            "image/png": "[encoded data removed]"
          },
          "metadata": {}
        }
      ]
    },
    {
      "cell_type": "code",
      "source": [
        "plt.figure(figsize=(15,12))\n",
        "sns.histplot(cities_without['total score'], bins =40)\n",
        "plt.xlabel('Total Scores')\n",
        "plt.ylabel('Count')\n",
        "plt.title(\"Total Scores for Cities without the Sign of Change in Position\")\n",
        "plt.show()"
      ],
      "metadata": {
        "colab": {
          "base_uri": "https://localhost:8080/",
          "height": 734
        },
        "id": "jJBLt3RPHCyR",
        "outputId": "f3d5476f-6c51-4763-9998-d0f569bf4e91"
      },
      "execution_count": null,
      "outputs": [
        {
          "output_type": "display_data",
          "data": {
            "text/plain": [
              "<Figure size 1080x864 with 1 Axes>"
            ],
            "image/png": "[encoded data removed]"
          },
          "metadata": {}
        }
      ]
    },
    {
      "cell_type": "markdown",
      "source": [
        "The distributions don't appear to be normal but due to the CLT(Central Limit Theorem) and a sample size over 100 it is acceptabe to procede, as the t-test is robust to non-normality with sufficient sample size. "
      ],
      "metadata": {
        "id": "rZGZ6Vj6Hl-3"
      }
    },
    {
      "cell_type": "code",
      "source": [
        "# Make a boxplot to visualize the difference\n",
        "plt.figure(figsize=(15,12))\n",
        "sns.boxplot(y = df['total score'], x = df['sign of change in position'])\n",
        "plt.ylabel('Total Scores')\n",
        "plt.xlabel('Sign of Change in Position')\n",
        "plt.title(\"Total Scores for Cities\")\n",
        "plt.show()"
      ],
      "metadata": {
        "colab": {
          "base_uri": "https://localhost:8080/",
          "height": 736
        },
        "id": "590iXYr7DLOh",
        "outputId": "2301f74d-66aa-4930-9f08-a89320959c42"
      },
      "execution_count": null,
      "outputs": [
        {
          "output_type": "display_data",
          "data": {
            "text/plain": [
              "<Figure size 1080x864 with 1 Axes>"
            ],
            "image/png": "[encoded data removed]"
          },
          "metadata": {}
        }
      ]
    },
    {
      "cell_type": "markdown",
      "source": [
        "The boxplot visually shows us the distributions between the cities with the sign of change in position and without the sign of change in position. \n",
        "Upper line indicates Max value, while lower one indicates Min value. The dots over max value and below min value show outliers. "
      ],
      "metadata": {
        "id": "YVbzx_zmKLcu"
      }
    },
    {
      "cell_type": "code",
      "source": [
        " # run two sample t-test\n",
        "stats.ttest_ind(cities_with['total score'], cities_without['total score'])"
      ],
      "metadata": {
        "colab": {
          "base_uri": "https://localhost:8080/"
        },
        "id": "opr3bHGbHKu0",
        "outputId": "d2e13239-23eb-4ed4-8e9c-ae955e4478fa"
      },
      "execution_count": null,
      "outputs": [
        {
          "output_type": "execute_result",
          "data": {
            "text/plain": [
              "Ttest_indResult(statistic=1.5285158431140429, pvalue=0.12678177388784045)"
            ]
          },
          "metadata": {},
          "execution_count": 16
        }
      ]
    },
    {
      "cell_type": "markdown",
      "source": [
        "There is no statistically significant difference in the average total score of the cities with the sign of change in position and without the sign of change in position."
      ],
      "metadata": {
        "id": "tcopdb8oIIIT"
      }
    },
    {
      "cell_type": "markdown",
      "source": [
        "# Conclusion"
      ],
      "metadata": {
        "id": "r3oMhm2cOES5"
      }
    },
    {
      "cell_type": "markdown",
      "source": [
        "There is a relationship between quality scores and quantity scores of the countries, which means when quality score goes up so does quantity score and vice versa.\n",
        "Second hypothesis result shows that there is no difference between average total scores of cities with the sign of change in position and without the sign of change in position."
      ],
      "metadata": {
        "id": "EHT-4_UtORfu"
      }
    },
    {
      "cell_type": "markdown",
      "source": [
        "# Summary of recommendations"
      ],
      "metadata": {
        "id": "bMmUHvIwOJMD"
      }
    },
    {
      "cell_type": "markdown",
      "source": [
        "**Investors:**\n",
        "look for quantity and quality scores of the cities when deciding to invest your money, since they indicate successfulness of the project you are investing in.\n",
        "\n",
        "**Startupers**:\n",
        "pick anywhere to start realizing your ideas regardless of the position of the countries. You can enter the market online which gives you wider audience and the location won't make any sense. "
      ],
      "metadata": {
        "id": "lokI061GOSDs"
      }
    }
  ]
}